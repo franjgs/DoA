{
  "nbformat": 4,
  "nbformat_minor": 0,
  "metadata": {
    "colab": {
      "name": "DoA_Random_ESPAGIT.ipynb",
      "provenance": [],
      "collapsed_sections": [
        "v4R4aZ_dkntJ"
      ],
      "toc_visible": true,
      "include_colab_link": true
    },
    "kernelspec": {
      "display_name": "Python 3",
      "language": "python",
      "name": "python3"
    },
    "language_info": {
      "codemirror_mode": {
        "name": "ipython",
        "version": 3
      },
      "file_extension": ".py",
      "mimetype": "text/x-python",
      "name": "python",
      "nbconvert_exporter": "python",
      "pygments_lexer": "ipython3",
      "version": "3.8.8"
    }
  },
  "cells": [
    {
      "cell_type": "markdown",
      "metadata": {
        "id": "view-in-github",
        "colab_type": "text"
      },
      "source": [
        "<a href=\"https://colab.research.google.com/github/franjgs/DoA/blob/main/DoA_Random_ESPAGIT.ipynb\" target=\"_parent\"><img src=\"https://colab.research.google.com/assets/colab-badge.svg\" alt=\"Open In Colab\"/></a>"
      ]
    },
    {
      "cell_type": "markdown",
      "metadata": {
        "id": "pL4slmhp0Ypc"
      },
      "source": [
        "# Direction-of-Arrival Estimation\n",
        "DOA estimation is a major problem in array signal processing and has wide applications in radar, sonar, wireless communications, etc.\n",
        "<div>\n",
        "<img src=\"https://media.springernature.com/lw685/springer-static/image/art%3A10.1007%2Fs11265-019-01467-4/MediaObjects/11265_2019_1467_Fig1_HTML.png\" width=\"500\" alt='DoA'>\n",
        "</div>"
      ]
    },
    {
      "cell_type": "markdown",
      "metadata": {
        "id": "-Gqotjmn0jrJ"
      },
      "source": [
        "## Python Code"
      ]
    },
    {
      "cell_type": "markdown",
      "metadata": {
        "id": "kZFiDHmGvlXy"
      },
      "source": [
        "### Load libraries"
      ]
    },
    {
      "cell_type": "code",
      "metadata": {
        "id": "6oXOwKyWiDpV"
      },
      "source": [
        "import numpy as np\n",
        "import matplotlib.pyplot as plt\n",
        "import scipy.linalg as LA\n",
        "import scipy.signal as ss\n",
        "from scipy.optimize import minimize, leastsq, least_squares\n",
        "from scipy.optimize import differential_evolution, dual_annealing\n",
        "\n",
        "from scipy.io import savemat\n",
        "\n",
        "import sys\n",
        "\n",
        "import operator\n",
        "\n",
        "import math\n",
        "from math import cos, sin, sqrt\n",
        "from mpl_toolkits.mplot3d import Axes3D\n",
        "\n",
        "import itertools"
      ],
      "execution_count": 1,
      "outputs": []
    },
    {
      "cell_type": "markdown",
      "metadata": {
        "id": "pvK6FUFavpRj"
      },
      "source": [
        "### Load local functions"
      ]
    },
    {
      "cell_type": "code",
      "metadata": {
        "id": "x2-bSobOtTHr",
        "colab": {
          "base_uri": "https://localhost:8080/"
        },
        "outputId": "69be3ed6-2071-40d2-c31e-df47346af999"
      },
      "source": [
        "#@title Local or Remote Execution\n",
        "LocalMachine = False #@param {type:\"boolean\"}\n",
        "if LocalMachine:\n",
        "  PATH ='./UC3M_Drive/Colab Notebooks/DoA/' # Macario\n",
        "  # PATH ='./UC3M/Investigacion/DoA/Google Colab/' # Macarra\n",
        "else:\n",
        "  from google.colab import drive\n",
        "  drive.mount('/content/gdrive/', force_remount=True)\n",
        "  PATH = '/content/gdrive/'+'MyDrive/Colab Notebooks/DoA/'\n",
        "sys.path.append(PATH)\n",
        "\n",
        "from ESPAGIT_func_colab import *"
      ],
      "execution_count": 2,
      "outputs": [
        {
          "output_type": "stream",
          "text": [
            "Mounted at /content/gdrive/\n"
          ],
          "name": "stdout"
        }
      ]
    },
    {
      "cell_type": "code",
      "metadata": {
        "colab": {
          "base_uri": "https://localhost:8080/"
        },
        "id": "nuE2aMULnoQs",
        "outputId": "ba4c8bdd-c353-4a0e-c407-29fa33717f12"
      },
      "source": [
        "from google.colab import drive\n",
        "drive.mount('/content/drive')"
      ],
      "execution_count": 3,
      "outputs": [
        {
          "output_type": "stream",
          "text": [
            "Mounted at /content/drive\n"
          ],
          "name": "stdout"
        }
      ]
    },
    {
      "cell_type": "markdown",
      "metadata": {
        "id": "kfU63dPEv1Zh"
      },
      "source": [
        "### Array definition"
      ]
    },
    {
      "cell_type": "code",
      "metadata": {
        "id": "titeXXpYv3uP"
      },
      "source": [
        "#=============================================================\n",
        "lamda = 1 # wavelength\n",
        "kappa = 2*np.pi/lamda # wave number\n",
        "\n",
        "#=============================================================\n",
        "# Uniform Linear Array (ULA)\n",
        "#@title Number of Array elements\n",
        "M =  5#@param {type:\"integer\"}\n",
        "\n",
        "ULA_flag = True #@param {type:\"boolean\"}\n",
        "Delta = lamda/2 # Element separation: lambda/2  \n",
        "\n",
        "RLA_flag = True #@param {type:\"boolean\"}\n",
        "\n",
        "am=(1+0j)*np.ones(M)/M # unit feed coefficients\n",
        "\n",
        "if ULA_flag:\n",
        "  ##############################\n",
        "  rm=[] # Vector with the position of Array Elements\n",
        "\n",
        "  for xm in np.linspace(0,Delta*(M-1),M):\n",
        "    rm.append(Vector(0,0,xm).coord)\n",
        "\n",
        "  ArrayU=Array(M,rm,am,kappa,'ISO')   # Isotropic Elements\n",
        "\n",
        "if RLA_flag:\n",
        "  # Randomly placed sensors\n",
        "  rmR=[] # Vector with the position of Array Elements\n",
        "  xm=Delta*(M-1)*np.random.rand(M)\n",
        "  for xmj in xm:\n",
        "    rmR.append(Vector(0,0,xmj).coord)\n",
        "        \n",
        "    ArrayR=Array(M,rmR,am,kappa,'ISO')   # Isotropic Elements"
      ],
      "execution_count": 4,
      "outputs": []
    },
    {
      "cell_type": "markdown",
      "metadata": {
        "id": "jYCg7XmH0RuE"
      },
      "source": [
        "### Array Visualization"
      ]
    },
    {
      "cell_type": "code",
      "metadata": {
        "colab": {
          "base_uri": "https://localhost:8080/",
          "height": 1000
        },
        "id": "z4WrI5Vf0Umx",
        "outputId": "9b0bb053-9071-4aa0-df6a-0459aeeabd19"
      },
      "source": [
        "if ULA_flag:\n",
        "  print('Uniform Linear Array')\n",
        "  x_sens=[ArrayU.rm[mm][0] for mm in range(ArrayU.M)]\n",
        "  y_sens=[ArrayU.rm[mm][1] for mm in range(ArrayU.M)]\n",
        "  z_sens=[ArrayU.rm[mm][2] for mm in range(ArrayU.M)]\n",
        "\n",
        "  # plt.subplot(221)\n",
        "  plt.figure(figsize=(10,5))\n",
        "  plt.plot(x_sens,z_sens,'^')\n",
        "  plt.title('1D-Uniform Linear Array')\n",
        "  plt.legend(['Antenna'])\n",
        "  plt.xlabel(r'$\\lambda$-units')                 # Plot formatting\n",
        "  plt.ylabel(r'$\\lambda$-units')                 # Plot formatting\n",
        "\n",
        "  plt.show()\n",
        "\n",
        "  ArrayEHPlanePlot(ArrayU, isLog=True)\n",
        "  # ArrayGainHPlot(ArrayU)\n",
        "  ArrayGainEPlot(ArrayU)\n",
        "  # SurfacePlot(ArrayU)\n",
        "\n",
        "if RLA_flag:\n",
        "  print('Random Linear Array')\n",
        "  x_sens=[ArrayR.rm[mm][0] for mm in range(ArrayR.M)]\n",
        "  y_sens=[ArrayR.rm[mm][1] for mm in range(ArrayR.M)]\n",
        "  z_sens=[ArrayR.rm[mm][2] for mm in range(ArrayR.M)]\n",
        "\n",
        "  # plt.subplot(221)\n",
        "  plt.figure(figsize=(10,5))\n",
        "  plt.plot(x_sens,z_sens,'^')\n",
        "  plt.title('1D-Random Linear Array')\n",
        "  plt.legend(['Antenna'])\n",
        "  plt.xlabel(r'$\\lambda$-units')                 # Plot formatting\n",
        "  plt.ylabel(r'$\\lambda$-units')                 # Plot formatting\n",
        "  plt.show()\n",
        "\n",
        "  ArrayEHPlanePlot(ArrayR, isLog=True)\n",
        "  # ArrayGainHPlot(ArrayR)\n",
        "  ArrayGainEPlot(ArrayR)\n",
        "  # SurfacePlot(ArrayR)\n",
        "\n",
        "\n",
        "    "
      ],
      "execution_count": 5,
      "outputs": [
        {
          "output_type": "stream",
          "text": [
            "Uniform Linear Array\n"
          ],
          "name": "stdout"
        },
        {
          "output_type": "display_data",
          "data": {
            "image/png": "[encoded data removed]",
            "text/plain": [
              "<Figure size 720x360 with 1 Axes>"
            ]
          },
          "metadata": {
            "tags": [],
            "needs_background": "light"
          }
        },
        {
          "output_type": "display_data",
          "data": {
            "image/png": "[encoded data removed]",
            "text/plain": [
              "<Figure size 432x288 with 1 Axes>"
            ]
          },
          "metadata": {
            "tags": [],
            "needs_background": "light"
          }
        },
        {
          "output_type": "display_data",
          "data": {
            "image/png": "[encoded data removed]",
            "text/plain": [
              "<Figure size 432x288 with 1 Axes>"
            ]
          },
          "metadata": {
            "tags": [],
            "needs_background": "light"
          }
        },
        {
          "output_type": "stream",
          "text": [
            "Random Linear Array\n"
          ],
          "name": "stdout"
        },
        {
          "output_type": "display_data",
          "data": {
            "image/png": "[encoded data removed]",
            "text/plain": [
              "<Figure size 720x360 with 1 Axes>"
            ]
          },
          "metadata": {
            "tags": [],
            "needs_background": "light"
          }
        },
        {
          "output_type": "display_data",
          "data": {
            "image/png": "[encoded data removed]",
            "text/plain": [
              "<Figure size 432x288 with 1 Axes>"
            ]
          },
          "metadata": {
            "tags": [],
            "needs_background": "light"
          }
        },
        {
          "output_type": "display_data",
          "data": {
            "image/png": "[encoded data removed]",
            "text/plain": [
              "<Figure size 432x288 with 1 Axes>"
            ]
          },
          "metadata": {
            "tags": [],
            "needs_background": "light"
          }
        }
      ]
    },
    {
      "cell_type": "markdown",
      "metadata": {
        "id": "q6VDXilpwABP"
      },
      "source": [
        "### Sources (signals) definition"
      ]
    },
    {
      "cell_type": "code",
      "metadata": {
        "colab": {
          "base_uri": "https://localhost:8080/"
        },
        "id": "xrXfUCmJwDJ0",
        "outputId": "69399b44-60c8-4d50-f6c9-f333e5830024"
      },
      "source": [
        "#@title Number of Sources\n",
        "D =  3#@param {type:\"integer\"}\n",
        "random_angles = False #@param {type:\"boolean\"}\n",
        "#=============================================================\n",
        "if random_angles:\n",
        "  Thetas = 0.5*np.pi*(np.random.rand(D))   # random source directions\n",
        "  Phis = np.pi*(np.random.rand(D))   # random source directions\n",
        "  Alphas = np.random.randn(D)#  + np.random.randn(Signal.D)*1j # random source powers\n",
        "else:\n",
        "  Thetas=np.array([np.radians(77), np.radians(55), np.radians(15), \n",
        "                 np.radians(35), np.radians(67)])\n",
        "  Thetas = Thetas[:D]\n",
        "  Phis = np.pi*(np.random.rand(D))   # random source directions\n",
        "  Alphas = np.ones(D) #  unit-power signals\n",
        "  \n",
        "Signal0=Signal(D,Thetas,Phis,Alphas)\n",
        "print('x_true = ',np.degrees(Thetas[0:Signal0.D]),'\\n') # ,xopt21lsq[Signal0.D:].tolist()])\n",
        "#============================================================="
      ],
      "execution_count": 6,
      "outputs": [
        {
          "output_type": "stream",
          "text": [
            "x_true =  [77. 55. 15.] \n",
            "\n"
          ],
          "name": "stdout"
        }
      ]
    },
    {
      "cell_type": "markdown",
      "metadata": {
        "id": "VRuxV7WhwK3C"
      },
      "source": [
        "### Array Matrix definition"
      ]
    },
    {
      "cell_type": "code",
      "metadata": {
        "id": "crg2xXqawN2o"
      },
      "source": [
        "# A=Matrix(Signal0,Array0) \n",
        "# Array Full Matrix\n",
        "if ULA_flag:\n",
        "  AU=Matrix2(Signal0.angles,Signal0.amps,rm=ArrayU.rm, g_rad='ISO')\n",
        "if RLA_flag:\n",
        "  AR=Matrix2(Signal0.angles,Signal0.amps,rm=ArrayR.rm, g_rad='ISO')"
      ],
      "execution_count": 7,
      "outputs": []
    },
    {
      "cell_type": "markdown",
      "metadata": {
        "id": "Osmxyh9HPDs-"
      },
      "source": [
        "Simulation Parameters"
      ]
    },
    {
      "cell_type": "code",
      "metadata": {
        "colab": {
          "base_uri": "https://localhost:8080/"
        },
        "id": "RSwxw-AKPBin",
        "outputId": "0ddb9390-a3e6-42ea-f8f9-2c717bbf174c"
      },
      "source": [
        "#@title Number of Simulations and SNR interval\n",
        "Nsims = 200 #@param {type:\"integer\"}\n",
        "\n",
        "SNR_ini = -15 #@param {type:\"number\"}\n",
        "SNR_end = 15 #@param {type:\"number\"}\n",
        "\n",
        "SNR = list(range(SNR_ini,SNR_end)) \n",
        "nSNR = len(SNR)\n",
        "\n",
        "nsim = 0 # First Iter\n",
        "idx_snr = 15 # 5 dB\n",
        "snr = SNR[idx_snr]\n",
        "print('SNR = ',snr, 'dB')"
      ],
      "execution_count": 8,
      "outputs": [
        {
          "output_type": "stream",
          "text": [
            "SNR =  0 dB\n"
          ],
          "name": "stdout"
        }
      ]
    },
    {
      "cell_type": "markdown",
      "metadata": {
        "id": "vXPBSnDn1XHL"
      },
      "source": [
        "### Snapshot computation"
      ]
    },
    {
      "cell_type": "code",
      "metadata": {
        "id": "SNoivNjX1Z0p"
      },
      "source": [
        "#@title Number of Snapshots \n",
        "N =  200#@param {type:\"integer\"}\n",
        "\n",
        "if ULA_flag:\n",
        "  XU = np.zeros((M,N)) + 1j*np.zeros((M,N))\n",
        "if RLA_flag:\n",
        "  XR = np.zeros((M,N)) + 1j*np.zeros((M,N))\n",
        "\n",
        "sig_n=np.sqrt(0.5/(10**(snr/10)))\n",
        "for t in range(N):\n",
        "  s_t = Signal0.amps*np.exp(1j*2*np.pi*np.random.rand(D))\n",
        "  # s_t=0.5*(np.random.randn(Signal0.D)+1j*np.random.randn(Signal0.D))*Signal0.amps\n",
        "  # s_t=0.5*np.ones(Signal0.D)\n",
        "  n_t=sig_n*(np.random.randn(M)+np.random.randn(M)*1j)\n",
        "  if ULA_flag:\n",
        "    XU[:,t] = np.matmul(AU.data,s_t)+n_t\n",
        "  if RLA_flag:\n",
        "    XR[:,t] = np.matmul(AR.data,s_t)+n_t    "
      ],
      "execution_count": 9,
      "outputs": []
    },
    {
      "cell_type": "markdown",
      "metadata": {
        "id": "AqaereKV1jYv"
      },
      "source": [
        "### Autocorrelation Matrix computation"
      ]
    },
    {
      "cell_type": "code",
      "metadata": {
        "id": "TDZJYVqv1nNm"
      },
      "source": [
        "if ULA_flag:\n",
        "  RXX_U = (1/N)*(XU@XU.conj().transpose())\n",
        "if RLA_flag:\n",
        "  RXX_R = (1/N)*(XR@XR.conj().transpose())"
      ],
      "execution_count": 10,
      "outputs": []
    },
    {
      "cell_type": "markdown",
      "metadata": {
        "id": "w8SqQEJI2o7a"
      },
      "source": [
        "## DoA Methods\n"
      ]
    },
    {
      "cell_type": "markdown",
      "metadata": {
        "id": "wAq8pA45QJze"
      },
      "source": [
        "### Spectrum Based Methods"
      ]
    },
    {
      "cell_type": "markdown",
      "metadata": {
        "id": "epTjow4XPqnZ"
      },
      "source": [
        "#### Bartlett\n",
        "\n",
        "Seguir"
      ]
    },
    {
      "cell_type": "markdown",
      "metadata": {
        "id": "JPJV7NjZ2hGR"
      },
      "source": [
        ""
      ]
    },
    {
      "cell_type": "code",
      "metadata": {
        "id": "mSWwLxBdrnOt"
      },
      "source": [
        "def DoA_Bartlett(CovMat,L,Array,Angles):\n",
        "    # CovMat is the signal covariance matrix, \n",
        "    # L is the number of sources, \n",
        "    # Array is the structure than describes the array\n",
        "    #   Array.M is the number of antennas\n",
        "    #   Array.rm holds the positions of antenna elements\n",
        "    # Angles are the grid of directions in the azimuth angular domain\n",
        "    \n",
        "    numAngles = len(Angles)\n",
        "    pspectrum = np.zeros(numAngles)\n",
        "    \n",
        "    signal_amp = 1 + 1j*0   # Signal amplitude(s) is (are) unknown\n",
        "    for i in range(numAngles):\n",
        "        av = ArrayResponse(Array,Angles[i],0)\n",
        "        con_av = np.conjugate(av.data)\n",
        "        con_av_tp = con_av.transpose()\n",
        "        pspectrum[i] = np.abs(con_av_tp @ CovMat @ av.data)\n",
        "\n",
        "    DoAsBartlett,_= find_peaks(pspectrum,height=1.35, distance=1.5)\n",
        "    plot_gr = True\n",
        "    if plot_gr:\n",
        "      plt.figure(figsize=(10,5))\n",
        "      plt.plot(np.degrees(Angles),psindB)\n",
        "      plt.scatter(np.degrees(Angles[DoAsMVDR]),psindB[DoAsMVDR],s=80, marker=(5,2))\n",
        "      plt.title('DoA estimated by Bartlett')\n",
        "      plt.legend(['Spectrum'])\n",
        "      plt.xlabel(r'degrees-units')                 # Plot formatting\n",
        "      plt.ylabel(r'Angle Power Spectrum')          # Plot formatting\n",
        "      plt.show()\n",
        "    return Angles[DoAsMVDR], pspectrum"
      ],
      "execution_count": 11,
      "outputs": []
    },
    {
      "cell_type": "markdown",
      "metadata": {
        "id": "Rwl672yIQAEL"
      },
      "source": [
        "#### MVDR (Capon)\n",
        "\n",
        "Capon’s minimum variance distortionless response, or MVDR, evaluates the power of the received signal in all possible directions. The power from the DoA with angle θ is measured by constraining the beamformer gain to be 1 in that direction and using the remaining degrees of freedom to minimize the output power contributions of signals coming from all other directions. The optimization problem can be stated mathematically as a constrained minimization problem. The idea is that for each possible angle θ, the power in the cost function must be minimized.\n",
        "\n",
        "The disadvantage of this method is that an inverse matrix computation is required which may become poor conditioned if highly correlated signals are present."
      ]
    },
    {
      "cell_type": "code",
      "metadata": {
        "id": "L9KKYLylP_j4"
      },
      "source": [
        "def DoA_MVDR(CovMat,L,Array,Angles):\n",
        "    # CovMat is the signal covariance matrix, \n",
        "    # L is the number of sources, \n",
        "    # Array is the structure than describes the array\n",
        "    #   Array.M is the number of antennas\n",
        "    #   Array.rm holds the positions of antenna elements\n",
        "    # Angles are the grid of directions in the azimuth angular domain\n",
        "    \n",
        "    numAngles = len(Angles)\n",
        "    # pspectrum = np.zeros(numAngles,dtype=np.complex_)\n",
        "    pspectrum = np.zeros(numAngles) \n",
        "    \n",
        "    signal_amp = 1 + 1j*0   # Signal amplitude(s) is (are) unknown\n",
        "    CovMatInv= np.linalg.inv(CovMat)\n",
        "    for i in range(numAngles):\n",
        "        av = ArrayResponse(Array,Angles[i],0)\n",
        "        con_av = np.conjugate(av.data)\n",
        "        con_av_tp = con_av.transpose()\n",
        "        \n",
        "        pspectrum[i] = 1 / np.abs(con_av_tp @ CovMatInv @ av.data)\n",
        "    psindB = 10*np.log10(pspectrum/pspectrum.min())\n",
        "    DoAsMVDR,_= find_peaks(pspectrum,height=1.35, distance=1.5)\n",
        "    plot_gr = True\n",
        "    if plot_gr:\n",
        "      plt.figure(figsize=(10,5))\n",
        "      plt.plot(np.degrees(Angles),psindB)\n",
        "      plt.scatter(np.degrees(Angles[DoAsMVDR]),psindB[DoAsMVDR],s=80, marker=(5,2))\n",
        "      plt.title('DoA estimated by MVDR')\n",
        "      plt.legend(['Spectrum'])\n",
        "      plt.xlabel(r'degrees-units')                 # Plot formatting\n",
        "      plt.ylabel(r'Angle Power Spectrum')          # Plot formatting\n",
        "      plt.show()\n",
        "    return Angles[DoAsMVDR], pspectrum"
      ],
      "execution_count": 12,
      "outputs": []
    },
    {
      "cell_type": "markdown",
      "metadata": {
        "id": "vyUdeBDERG8u"
      },
      "source": [
        "### Subspace-based Methods"
      ]
    },
    {
      "cell_type": "markdown",
      "metadata": {
        "id": "VJ5UJzaP3UCy"
      },
      "source": [
        "#### Signal Space Projection\n",
        "<div>\n",
        "<img src=\"https://www.researchgate.net/profile/Laura-Cottatellucci/publication/2561811/figure/fig1/AS:669540857966600@1536642388166/The-projection-onto-the-solution-subspace-spanned-by-the-eigenvectors-with-eigenvalues.png\" width=\"500\" alt='DoA'>\n",
        "</div>\n"
      ]
    },
    {
      "cell_type": "code",
      "metadata": {
        "id": "Uncwi_Os3aVV"
      },
      "source": [
        "if ULA_flag:\n",
        "  ES_U=SubProj(RXX_U, L=Signal0.D)\n",
        "if RLA_flag:\n",
        "  ES_R=SubProj(RXX_R, L=Signal0.D)"
      ],
      "execution_count": 13,
      "outputs": []
    },
    {
      "cell_type": "markdown",
      "metadata": {
        "id": "3tCgcHeyP3Q7"
      },
      "source": [
        "#### Music\n",
        "\n",
        "MUSIC (MUltiple SIgnal Classification) is an algorithm used for frequency estimation[1] and radio direction finding.[2]\n",
        "\n",
        "\n"
      ]
    },
    {
      "cell_type": "markdown",
      "metadata": {
        "id": "qA0tgiw5VnJb"
      },
      "source": [
        "MUSIC algorithm uses intersections between the array manifold and the signal subspace to estimate the directions. \n",
        "\n",
        "The steering vectors corresponding to the incoming signals lie in the signal subspace; therefore, they are orthogonal to the noise subspace. One way to estimate the DoAs of multiple signal source is to search through the set\n",
        "of all possible steering vectors and find those that are orthogonal to the noise subspace. \n",
        "\n",
        "In terms of implementation, the MUSIC-DoA first estimates a basis for the noise subspace, Qn, and then determines the L peaks in the Angle Spectrum. The associated angles provide the DoA estimates\n",
        "\n",
        "<img src=\"https://es.mathworks.com/help/examples/phased/win64/BeamscanExample_04.png\" width=\"500\" alt='DoA Comparison'>\n",
        "</div>"
      ]
    },
    {
      "cell_type": "code",
      "metadata": {
        "id": "CZ7BeNh00PG1"
      },
      "source": [
        "def MUSIC(CovMat,L,Array,Angles):\n",
        "    # CovMat is the signal covariance matrix, L is the number of sources, N is the number of antennas\n",
        "    # array holds the positions of antenna elements\n",
        "    # Angles are the grid of directions in the azimuth angular domain\n",
        "    Lamb,V = LA.eig(CovMat)\n",
        "        \n",
        "    idx=np.abs(Lamb).argsort()[::-1]\n",
        "    Lamb=Lamb[idx]\n",
        "    V=V[:,idx]\n",
        "    \n",
        "    L = min(L,Array.M-1)\n",
        "\n",
        "    Qn  = V[:,L:Array.M]\n",
        "    numAngles = Angles.size\n",
        "    pspectrum = np.zeros(numAngles)\n",
        "    for i in range(numAngles):\n",
        "        av = ArrayResponse(Array,Angles[i],0)\n",
        "        pspectrum[i] = 1/LA.norm((Qn.conj().transpose()@av))\n",
        "    psindB = 10*np.log10(pspectrum/pspectrum.min())\n",
        "    DoAsMUSIC,_= find_peaks(pspectrum,height=1.35, distance=1.5) # find_peaks(psindB,height=1.35, distance=1.5)\n",
        "    plot_gr = True\n",
        "    if plot_gr:\n",
        "      plt.figure(figsize=(10,5))\n",
        "      plt.plot(np.degrees(Angles),psindB)\n",
        "      plt.scatter(np.degrees(Angles[DoAsMUSIC]),psindB[DoAsMUSIC],s=80, marker=(5,2))\n",
        "      plt.title('DoA estimated by MUSIC')\n",
        "      plt.legend(['Spectrum'])\n",
        "      plt.xlabel(r'degrees-units')                 # Plot formatting\n",
        "      plt.ylabel(r'Angle Power Spectrum')                 # Plot formatting\n",
        "      plt.show()\n",
        "      plt.show()\n",
        "    return Angles[DoAsMUSIC],pspectrum"
      ],
      "execution_count": 14,
      "outputs": []
    },
    {
      "cell_type": "markdown",
      "metadata": {
        "id": "v4R4aZ_dkntJ"
      },
      "source": [
        "#### Root-Music"
      ]
    },
    {
      "cell_type": "markdown",
      "metadata": {
        "id": "ZUfibXTVQpHk"
      },
      "source": [
        "### Parametric Methods\n",
        "\n",
        "See: \n",
        "H. Krim and M. Viberg, \"Two decades of array signal processing research: the parametric approach,\" in IEEE Signal Processing Magazine, vol. 13, no. 4, pp. 67-94, July 1996, [doi: 10.1109/79.526899](https://doi.org/10.1109/79.526899)."
      ]
    },
    {
      "cell_type": "markdown",
      "metadata": {
        "id": "YltM-KTbw3c9"
      },
      "source": [
        "fmin1D(x) -> function to be optimized. ||E_S - A(x) T ||^2 \n",
        "\n"
      ]
    },
    {
      "cell_type": "code",
      "metadata": {
        "colab": {
          "base_uri": "https://localhost:8080/"
        },
        "id": "zMXxRP3N2vCu",
        "outputId": "6b84ecd1-4686-4849-c462-ebae160ffe6f"
      },
      "source": [
        "# fmin1D Evaluation\n",
        "thetas=[]\n",
        "phis=[]\n",
        "amps=[]\n",
        "for d in range(Signal0.D):\n",
        "    thetas.append(Signal0.angles[d].angle[0])\n",
        "    phis.append(Signal0.angles[d].angle[1])\n",
        "    amps.append(Signal0.amps[d])\n",
        "    \n",
        "x0=[]\n",
        "x0.append(thetas)\n",
        "# x0.append(phis)\n",
        "# x0.append(amps)\n",
        "\n",
        "# If T is assumed to be a known parameter, so x_best just contains angles \n",
        "# Ideal T matrix\n",
        "if ULA_flag:\n",
        "  T_U = np.matmul(LA.pinv(AU.data),ES_U) #  np.eye(Signal.D)\n",
        "if RLA_flag:\n",
        "  T_R = np.matmul(LA.pinv(AR.data),ES_R) #  np.eye(Signal.D)    \n",
        "\n",
        "x_true=[item for sublist in x0 for item in sublist]\n",
        "\n",
        "# Deterministic ML method\n",
        "G0=np.eye(M)\n",
        "Gt0=np.zeros((M,M))\n",
        "if ULA_flag:\n",
        "  print('fmin1D(x_true) [ULA] =',format(fmin1D(x_true, Signal0.D, T_U, ES_U, ArrayU, G0,Gt0), \"0.6f\"))\n",
        "if RLA_flag:\n",
        "  print('fmin1D(x_true) [RLA] =',format(fmin1D(x_true, Signal0.D, T_R, ES_R, ArrayR, G0,Gt0), \"0.6f\"))\n",
        "\n",
        "#########################\n",
        "# If T is an unknown parameter, it has to be optimized\n",
        "if ULA_flag:\n",
        "  D_T_U=T_U.shape[0]*T_U.shape[0]\n",
        "  D_T = D_T_U\n",
        "  T_U_vec=np.zeros(D_T_U*2) # Vector containing real and imaginary elements of T\n",
        "  T_U_vec=np.concatenate((T_U.real.reshape(D_T_U),T_U.imag.reshape(D_T_U)))\n",
        "  xT_U_true=np.concatenate((np.array(x_true),T_U_vec))\n",
        "\n",
        "  print('fmin1D(xT_true) [ULA] =',format(fmin1D(xT_U_true, Signal0.D, ES_U, ArrayU, G0,Gt0), \"0.6f\"))\n",
        "\n",
        "if RLA_flag:\n",
        "  D_T_R=T_R.shape[0]*T_R.shape[0]\n",
        "  D_T = D_T_R\n",
        "  T_R_vec=np.zeros(D_T_R*2) # Vector containing real and imaginary elements of T\n",
        "  T_R_vec=np.concatenate((T_R.real.reshape(D_T_R),T_R.imag.reshape(D_T_R)))\n",
        "  xT_R_true=np.concatenate((np.array(x_true),T_R_vec))\n",
        "  print('fmin1D(xT_true) [RLA] =',format(fmin1D(xT_R_true, Signal0.D, ES_R, ArrayR, G0,Gt0), \"0.6f\"))"
      ],
      "execution_count": 15,
      "outputs": [
        {
          "output_type": "stream",
          "text": [
            "fmin1D(x_true) [ULA] = 0.081724\n",
            "fmin1D(x_true) [RLA] = 0.232766\n",
            "fmin1D(xT_true) [ULA] = 0.081724\n",
            "fmin1D(xT_true) [RLA] = 0.232766\n"
          ],
          "name": "stdout"
        }
      ]
    },
    {
      "cell_type": "markdown",
      "metadata": {
        "id": "XoS5OyoviYxf"
      },
      "source": [
        "The optimization process might require a initial value, x_ini, and some bounds for contrained optimization"
      ]
    },
    {
      "cell_type": "code",
      "metadata": {
        "colab": {
          "base_uri": "https://localhost:8080/",
          "height": 1000
        },
        "id": "GkfEbvT9DNRI",
        "outputId": "474614b2-72cd-4075-d412-a45bec937ded"
      },
      "source": [
        "# Angle Bounds ([Phi_d], d = 0, ... D, [Theta_d], d = 0, ..., D)\n",
        "# bnds=((0,0.5*np.pi), (0,0.5*np.pi), (0,np.pi), (0,np.pi), (-3,3), (-3,3))\n",
        "bnds=()\n",
        "# Bounds for Theta\n",
        "bnds_theta=(0,0.5*np.pi)\n",
        "for d in range(Signal0.D):\n",
        "    bnds += tuple([bnds_theta])\n",
        "\n",
        "print('Bounds for theta_i: ', np.degrees(bnds))\n",
        "\n",
        "# Initial Value for DoA optimization\n",
        "print('\\nActual DoAs: x_true -> ', np.degrees(x_true))\n",
        "# Random initial value wothin the bound limits\n",
        "xini_theta_U = np.sort(((bnds_theta[1]-bnds_theta[0])*np.random.rand(Signal0.D)+bnds_theta[0])).tolist()\n",
        "xini_theta_R = np.sort(((bnds_theta[1]-bnds_theta[0])*np.random.rand(Signal0.D)+bnds_theta[0])).tolist()\n",
        "DoA_angles = np.linspace(bnds_theta[0], bnds_theta[1],90)\n",
        "\n",
        "# Pre-optimized value using MVDR\n",
        "if ULA_flag:\n",
        "  DoAsMVDR_U,_ = DoA_MVDR(RXX_U,Signal0.D,ArrayU,DoA_angles)\n",
        "  Nangles_MVDR_U = min(len(DoAsMVDR_U), Signal0.D)\n",
        "  print('\\nDoAs using MVDR [ULA]: ',Nangles_MVDR_U,'. x_MVDR ->',np.degrees(DoAsMVDR_U))\n",
        "if RLA_flag:\n",
        "  DoAsMVDR_R,_ = DoA_MVDR(RXX_R,Signal0.D,ArrayR,DoA_angles)\n",
        "  Nangles_MVDR_R = min(len(DoAsMVDR_R), Signal0.D)\n",
        "  print('\\nDoAs using MVDR [RLA]: ',Nangles_MVDR_R,'. x_MVDR ->',np.degrees(DoAsMVDR_R))\n",
        "# Pre-optimized value using MUSIC\n",
        "if ULA_flag:\n",
        "  DoAsMUSIC_U,_ = MUSIC(RXX_U,Signal0.D,ArrayU,DoA_angles)\n",
        "  Nangles_MUSIC_U = min(len(DoAsMUSIC_U), Signal0.D)\n",
        "  print('\\nDoAs using MUSIC [ULA]: ',Nangles_MUSIC_U,'. x_MUSIC ->',np.degrees(DoAsMUSIC_U))\n",
        "if RLA_flag:\n",
        "  DoAsMUSIC_R,_ = MUSIC(RXX_R,Signal0.D,ArrayR,DoA_angles)\n",
        "  Nangles_MUSIC_R = min(len(DoAsMUSIC_R), Signal0.D)\n",
        "  print('\\nDoAs using MUSIC [RLA]: ',Nangles_MUSIC_R,'. x_MUSIC ->',np.degrees(DoAsMUSIC_R))\n",
        "\n",
        "ini_MVDR=False # if ini_MVDR = True -> MVDR, else -> MUSIC\n",
        "if ULA_flag:\n",
        "  if ini_MVDR:\n",
        "    Nangles_U = Nangles_MVDR_U\n",
        "    DoAs_ini_U = DoAsMVDR_U\n",
        "  else:\n",
        "    Nangles_U = Nangles_MUSIC_U\n",
        "    DoAs_ini_U = DoAsMUSIC_U\n",
        "\n",
        "  for nang in range(Nangles_U):\n",
        "      xini_theta_U[nang]= DoAs_ini_U[nang]\n",
        "\n",
        "  xini_theta_U = match_vec(Thetas,np.array(xini_theta_U),lambda x1, x2: abs(x1 - x2))\n",
        "  print('\\nInitial value [ULA]: x_ini ->', np.degrees(xini_theta_U))\n",
        "if RLA_flag:\n",
        "  if ini_MVDR:\n",
        "    Nangles_R = Nangles_MVDR_R\n",
        "    DoAs_ini_R = DoAsMVDR_R\n",
        "  else:\n",
        "    Nangles_R = Nangles_MUSIC_R\n",
        "    DoAs_ini_R = DoAsMUSIC_R\n",
        "\n",
        "  for nang in range(Nangles_R):\n",
        "      xini_theta_R[nang]= DoAs_ini_R[nang]\n",
        "\n",
        "  xini_theta_R = match_vec(Thetas,np.array(xini_theta_R),lambda x1, x2: abs(x1 - x2))\n",
        "  print('\\nInitial value [RLA]: x_ini ->', np.degrees(xini_theta_R))"
      ],
      "execution_count": 16,
      "outputs": [
        {
          "output_type": "stream",
          "text": [
            "Bounds for theta_i:  [[ 0. 90.]\n",
            " [ 0. 90.]\n",
            " [ 0. 90.]]\n",
            "\n",
            "Actual DoAs: x_true ->  [77. 55. 15.]\n"
          ],
          "name": "stdout"
        },
        {
          "output_type": "display_data",
          "data": {
            "image/png": "[encoded data removed]",
            "text/plain": [
              "<Figure size 720x360 with 1 Axes>"
            ]
          },
          "metadata": {
            "tags": [],
            "needs_background": "light"
          }
        },
        {
          "output_type": "stream",
          "text": [
            "\n",
            "DoAs using MVDR [ULA]:  3 . x_MVDR -> [19.21348315 57.64044944 74.83146067]\n"
          ],
          "name": "stdout"
        },
        {
          "output_type": "display_data",
          "data": {
            "image/png": "[encoded data removed]",
            "text/plain": [
              "<Figure size 720x360 with 1 Axes>"
            ]
          },
          "metadata": {
            "tags": [],
            "needs_background": "light"
          }
        },
        {
          "output_type": "stream",
          "text": [
            "\n",
            "DoAs using MVDR [RLA]:  2 . x_MVDR -> [36.40449438 68.76404494]\n"
          ],
          "name": "stdout"
        },
        {
          "output_type": "display_data",
          "data": {
            "image/png": "[encoded data removed]",
            "text/plain": [
              "<Figure size 720x360 with 1 Axes>"
            ]
          },
          "metadata": {
            "tags": [],
            "needs_background": "light"
          }
        },
        {
          "output_type": "stream",
          "text": [
            "\n",
            "DoAs using MUSIC [ULA]:  3 . x_MUSIC -> [19.21348315 55.61797753 76.85393258]\n"
          ],
          "name": "stdout"
        },
        {
          "output_type": "display_data",
          "data": {
            "image/png": "[encoded data removed]",
            "text/plain": [
              "<Figure size 720x360 with 1 Axes>"
            ]
          },
          "metadata": {
            "tags": [],
            "needs_background": "light"
          }
        },
        {
          "output_type": "stream",
          "text": [
            "\n",
            "DoAs using MUSIC [RLA]:  2 . x_MUSIC -> [33.37078652 70.78651685]\n",
            "\n",
            "Initial value [ULA]: x_ini -> [76.85393258 55.61797753 19.21348315]\n",
            "\n",
            "Initial value [RLA]: x_ini -> [89.96054601 70.78651685 33.37078652]\n"
          ],
          "name": "stdout"
        }
      ]
    },
    {
      "cell_type": "markdown",
      "metadata": {
        "id": "986EApFkLrxU"
      },
      "source": [
        "Now, we will assume that matrix T is unknown, so it must be \"optimized\"."
      ]
    },
    {
      "cell_type": "markdown",
      "metadata": {
        "id": "52Ekry4SL_M9"
      },
      "source": [
        "Bounds for matrix T"
      ]
    },
    {
      "cell_type": "code",
      "metadata": {
        "id": "qEzflaHKj5ZW"
      },
      "source": [
        "# Bounds for constrained optimization of T\n",
        "#@title Preinitialization of Matrix T = pinv(A)*E_s\n",
        "ini_T = True #@param {type:\"boolean\"}\n",
        "T_factor = 1.2\n",
        "\n",
        "# Bounds for Theta\n",
        "bnds_theta=(0,0.5*np.pi)\n",
        "if ULA_flag:\n",
        "  bnds_U=()\n",
        "  for d in range(Signal0.D):\n",
        "    bnds_U += tuple([bnds_theta])\n",
        "  if ini_T:\n",
        "    # xini_alpha = np.random.randn(Signal0.D)#  + np.random.randn(Signal.D)*1j # random source powers\n",
        "    # xini_alpha = np.random.rand(Signal0.D)*np.exp(1j*2*np.pi*np.random.rand(Signal0.D))\n",
        "    xini_alpha=np.ones(Signal0.D)\n",
        "    xini_phi=np.zeros(Signal0.D)\n",
        "    Signal_ini_U=Signal(D,xini_theta_U,xini_phi,xini_alpha)\n",
        "    # Array Full Matrix\n",
        "    AU_ini=Matrix2(Signal_ini_U.angles,Signal_ini_U.amps,rm=ArrayU.rm, g_rad='ISO')\n",
        "    T_U_ini=np.matmul(LA.pinv(AU_ini.data),ES_U) #  np.eye(Signal.D)\n",
        "    # T is an unknown parameter, so it has to be optimized\n",
        "\n",
        "    # Bounds for T\n",
        "\n",
        "    T_U_max = np.max([np.real(T_U_ini),np.imag(T_U_ini)])\n",
        "    T_U_min = np.min([np.real(T_U_ini),np.imag(T_U_ini)])\n",
        "    bnds_T_U=(T_factor*T_U_min, T_factor*T_U_max)\n",
        "    xini_T_U = np.real(T_U_ini).flatten(order='F').tolist()+np.imag(T_U_ini).flatten(order='F').tolist()\n",
        "  else:\n",
        "    bnds_T_U=(-1,1)\n",
        "    xini_T_U=((bnds_T_U[1]-bnds_T_U[0])*np.random.rand(2*D_T_U)+bnds_T_U[0]).tolist()\n",
        "\n",
        "  for d in range(D_T_U*2):\n",
        "      bnds_U += tuple([bnds_T_U])\n",
        "\n",
        "  bndsa_U=np.array(bnds_U).transpose()\n",
        "if RLA_flag:\n",
        "  bnds_R=()\n",
        "  for d in range(Signal0.D):\n",
        "    bnds_R += tuple([bnds_theta])\n",
        "  if ini_T:\n",
        "    # xini_alpha = np.random.randn(Signal0.D)#  + np.random.randn(Signal.D)*1j # random source powers\n",
        "    # xini_alpha = np.random.rand(Signal0.D)*np.exp(1j*2*np.pi*np.random.rand(Signal0.D))\n",
        "    xini_alpha=np.ones(Signal0.D)\n",
        "    xini_phi=np.zeros(Signal0.D)\n",
        "    Signal_ini_R=Signal(D,xini_theta_R,xini_phi,xini_alpha)\n",
        "    # Array Full Matrix\n",
        "    AR_ini=Matrix2(Signal_ini_R.angles,Signal_ini_R.amps,rm=ArrayR.rm, g_rad='ISO')\n",
        "    T_R_ini=np.matmul(LA.pinv(AR_ini.data),ES_R) #  np.eye(Signal.D)\n",
        "    # T is an unknown parameter, so it has to be optimized\n",
        "    # Bounds for T\n",
        "    T_R_max = np.max([np.real(T_R_ini),np.imag(T_R_ini)])\n",
        "    T_R_min = np.min([np.real(T_R_ini),np.imag(T_R_ini)])\n",
        "    bnds_T_R=(T_factor*T_R_min, T_factor*T_R_max)\n",
        "    xini_T_R = np.real(T_R_ini).flatten(order='F').tolist()+np.imag(T_R_ini).flatten(order='F').tolist()\n",
        "  else:\n",
        "    bnds_T_R=(-1,1)\n",
        "    xini_T_R=((bnds_T_R[1]-bnds_T_R[0])*np.random.rand(2*D_T_R)+bnds_T_R[0]).tolist()\n",
        "\n",
        "  for d in range(D_T_R*2):\n",
        "      bnds_R += tuple([bnds_T_R])\n",
        "\n",
        "  bndsa_R=np.array(bnds_R).transpose()\n"
      ],
      "execution_count": 17,
      "outputs": []
    },
    {
      "cell_type": "markdown",
      "metadata": {
        "id": "dd0nWch3lE09"
      },
      "source": [
        "#### Optimization Methods\n"
      ]
    },
    {
      "cell_type": "markdown",
      "metadata": {
        "id": "ZdGBn36U-_Jy"
      },
      "source": [
        "A large class of estimation problems result in a quadratic\n",
        "programming formulation, and can be efficiently solved\n",
        "using numerical optimization to compute the estimates. \n",
        "\n",
        "These approaches rely on [scipy.optimize.minimize](https://docs.scipy.org/doc/scipy/reference/generated/scipy.optimize.minimize.html)"
      ]
    },
    {
      "cell_type": "markdown",
      "metadata": {
        "id": "wk83wBSzAaIY"
      },
      "source": [
        "`scipy.optimize.minimize(fun, x0, method=None, bounds=None)`\n",
        "\n",
        "Minimization of scalar function of one or more variables."
      ]
    },
    {
      "cell_type": "markdown",
      "metadata": {
        "id": "pq0XAlBjDuBO"
      },
      "source": [
        "##### [LS Method with bounds](https://docs.scipy.org/doc/scipy/reference/generated/scipy.optimize.least_squares.html): \n",
        "Solve a nonlinear least-squares problem with bounds on the variables.\n",
        "\n",
        "`scipy.optimize.least_squares(func, x0, bounds=- inf, inf, method='trf', loss='linear', args=())` [source](https://github.com/scipy/scipy/blob/v1.6.3/scipy/optimize/_lsq/least_squares.py#L240-L950)\n",
        "> Given the residuals f(x) (an m-D real function of n real variables) and the loss function rho(s) (a scalar function), least_squares finds a local minimum of the cost function F(x):\n",
        "\n",
        ">> minimize F(x) = 0.5 * sum(rho(f_i(x)**2), i = 0, ..., m - 1)\n",
        "subject to lb <= x <= ub"
      ]
    },
    {
      "cell_type": "code",
      "metadata": {
        "id": "2PgfcisZlIWp"
      },
      "source": [
        "# Optimization --------------------------------------------------------\n",
        "\n",
        "# Simplex Method\n",
        "Opt_solver_dict = {\n",
        "    0: 'LS',\n",
        "    1: 'SLSQP',\n",
        "    2: 'Powell',\n",
        "    3: 'L-BFGS-B',\n",
        "    4: 'COBYLA',\n",
        "    5: 'GA'\n",
        "    }\n",
        "\n",
        "Opt_solver = [0]*3\n",
        "Opt_solver[0]=Opt_solver_dict[0]\n",
        "Opt_solver[1]=Opt_solver_dict[1]\n",
        "Opt_solver[2]=Opt_solver_dict[3]\n",
        "\n",
        "# LS Method\n",
        "loss_dict = {\n",
        "    0: 'linear',\n",
        "    1: 'soft_l1',\n",
        "    2: 'cauchy'\n",
        "    }\n",
        "\n",
        "loss_method = loss_dict[0]\n",
        "\n",
        "Opt_Method = {\n",
        "        0: 'MUSIC 1D',\n",
        "        1: 'ESPRIT 1D',\n",
        "        2: 'ML method, '+Opt_solver[0],\n",
        "        3: 'ML method (Random) '+Opt_solver[0],\n",
        "        4: 'ML method, '+Opt_solver[2],\n",
        "        5: 'ML method, T, '+Opt_solver[0],\n",
        "        6: 'ML method, T (Random) '+Opt_solver[0],\n",
        "        7: 'ML method, T, '+Opt_solver[2],\n",
        "        8: 'TLS-ESPRIT, '+Opt_solver[0],\n",
        "        9: 'TLS-ESPRIT (Random) '+Opt_solver[0],\n",
        "        10: 'TLS-ESPRIT, '+Opt_solver[2],\n",
        "        11: 'TLS-ESPRIT, T, '+Opt_solver[0],\n",
        "        12: 'TLS-ESPRIT, T, (Random) '+Opt_solver[0],\n",
        "        13: 'TLS-ESPRIT, T, '+Opt_solver[2],\n",
        "        14: 'ESPAGIT, '+Opt_solver[0],\n",
        "        15: 'ESPAGIT (Random), '+Opt_solver[0],\n",
        "        16: 'ESPAGIT, '+Opt_solver[2],\n",
        "        17: 'ESPAGIT, T, '+Opt_solver[0],\n",
        "        18: 'ESPAGIT, T (Random) '+Opt_solver[0],\n",
        "        19: 'ESPAGIT, T, '+Opt_solver[2]\n",
        " }\n",
        "\n",
        "sel_opt_Method = [0, 1, 2 ,3, 5, 6, 8, 9, 11, 12, 14, 15, 17, 18]\n",
        " \n",
        "Opt_Method_list=[]\n",
        "for key, value in Opt_Method.items():\n",
        "    temp = [key,value]\n",
        "    Opt_Method_list.append(temp)\n",
        "\n",
        "th_est=np.zeros((nSNR, Nsims,len(Opt_Method),Signal0.D))\n",
        "eth=np.zeros((nSNR, Nsims,len(Opt_Method)))"
      ],
      "execution_count": 18,
      "outputs": []
    },
    {
      "cell_type": "markdown",
      "metadata": {
        "id": "HoDXko8N3KMG"
      },
      "source": [
        "#### Deterministic Maximum Likelihood (ML)"
      ]
    },
    {
      "cell_type": "markdown",
      "metadata": {
        "id": "UCXtZWGu-nJB"
      },
      "source": [
        "Minimum error due to Noise (we assume a perfect knowledge of the angle of arrival, and matrix T)"
      ]
    },
    {
      "cell_type": "code",
      "metadata": {
        "id": "KUckMy8AlWvr"
      },
      "source": [
        "# Selection Matrices\n",
        "\n",
        "# Deterministic ML method\n",
        "G0=np.eye(M)\n",
        "Gt0=np.zeros((M,M))"
      ],
      "execution_count": 19,
      "outputs": []
    },
    {
      "cell_type": "code",
      "metadata": {
        "colab": {
          "base_uri": "https://localhost:8080/"
        },
        "id": "Z_8oadiZl99b",
        "outputId": "a3f22973-ece8-4a4c-80bb-dd222762c5b7"
      },
      "source": [
        "# ML-Method -------------------------------------------------\n",
        "# T matrix as (known) input parameter\n",
        "\n",
        "if ULA_flag:\n",
        "  args00U=(Signal0.D, T_U, ES_U, ArrayU, G0,Gt0)\n",
        "  xini00U=np.array(xini_theta_U)\n",
        "\n",
        "  # LS\n",
        "  idx = 2\n",
        "\n",
        "  xopt00lsq=least_squares(fmin1D_lsq, xini00U, args=args00U, bounds=bndsa_U[:,0:D], loss=loss_method).x\n",
        "  th_est[idx_snr, nsim,idx,:]=match_vec(Thetas,xopt00lsq,lambda x1, x2: abs(x1 - x2))\n",
        "  eth[idx_snr, nsim][idx]=np.degrees(LA.norm(Thetas-th_est[idx_snr,nsim,idx,:]))\n",
        "  print('\\n('+Opt_Method[idx]+') x_opt =',np.degrees(th_est[idx_snr,nsim,idx,:]),'. x_true = ', np.degrees(Thetas))\n",
        "  print('('+Opt_Method[idx]+') err(x_opt) =',eth[idx_snr,nsim][idx])\n",
        "\n",
        "if RLA_flag:\n",
        "  # Random -----------------------------------------------------\n",
        "  args00R=(Signal0.D, T_R, ES_R, ArrayR, G0,Gt0)\n",
        "  xini00R=np.array(xini_theta_R)\n",
        "  # LS\n",
        "  idx = 3\n",
        "\n",
        "  xopt00lsq=least_squares(fmin1D_lsq, xini00R, args=args00R, bounds=bndsa_R[:,0:D], loss=loss_method).x\n",
        "  th_est[idx_snr, nsim,idx,:]=match_vec(Thetas,xopt00lsq,lambda x1, x2: abs(x1 - x2))\n",
        "  eth[idx_snr, nsim][idx]=np.degrees(LA.norm(Thetas-th_est[idx_snr,nsim,idx,:]))\n",
        "  print('\\n('+Opt_Method[idx]+') x_opt =',np.degrees(th_est[idx_snr,nsim,idx,:]),'. x_true = ', np.degrees(Thetas))\n",
        "  print('('+Opt_Method[idx]+') err(x_opt) =',eth[idx_snr,nsim][idx])\n"
      ],
      "execution_count": 20,
      "outputs": [
        {
          "output_type": "stream",
          "text": [
            "\n",
            "(ML method, LS) x_opt = [76.99058997 55.02290166 15.5994439 ] . x_true =  [77. 55. 15.]\n",
            "(ML method, LS) err(x_opt) = 0.5999550151833705\n",
            "\n",
            "(ML method (Random) LS) x_opt = [76.99390822 54.99431698 14.98482729] . x_true =  [77. 55. 15.]\n",
            "(ML method (Random) LS) err(x_opt) = 0.01730946595235972\n"
          ],
          "name": "stdout"
        }
      ]
    },
    {
      "cell_type": "code",
      "metadata": {
        "colab": {
          "base_uri": "https://localhost:8080/"
        },
        "id": "qQq1PzL8nUIO",
        "outputId": "e29818c7-5b2e-4c13-b5d0-86f142ddb773"
      },
      "source": [
        "# T is an unknown parameter, so it has to be optimized\n",
        "if ULA_flag:\n",
        "  args01U=(Signal0.D, ES_U, ArrayU, G0,Gt0)\n",
        "\n",
        "  # T matrix included in xini vector\n",
        "  xini01U=np.concatenate((np.array(xini_theta_U), np.array(xini_T_U)))\n",
        "\n",
        "  # LS\n",
        "  idx = 5\n",
        "\n",
        "  xopt01lsq=least_squares(fmin1D_lsq, xini01U, args=args01U, bounds=bndsa_U, loss=loss_method).x\n",
        "  th_est[idx_snr, nsim,idx,:]=match_vec(Thetas,xopt01lsq[0:Signal0.D],lambda x1, x2: abs(x1 - x2))\n",
        "  eth[idx_snr, nsim][idx]=np.degrees(LA.norm(Thetas-th_est[idx_snr,nsim,idx,:]))\n",
        "  print('\\n('+Opt_Method[idx]+') x_opt =',np.degrees(th_est[idx_snr,nsim,idx,:]),'. x_true = ', np.degrees(Thetas))\n",
        "  print('('+Opt_Method[idx]+') err(x_opt) =',eth[idx_snr,nsim][idx])\n",
        "\n",
        "if RLA_flag:\n",
        "  # Random -----------------------------------------------------\n",
        "  # T is an unknown parameter, so it has to be optimized\n",
        "  args01R=(Signal0.D, ES_R, ArrayR, G0,Gt0)\n",
        "  xini01R=np.concatenate((np.array(xini_theta_R), np.array(xini_T_R)))\n",
        "  # LS\n",
        "  idx = 6\n",
        "\n",
        "  xopt01lsq=least_squares(fmin1D_lsq, xini01R, args=args01R, bounds=bndsa_R, loss=loss_method).x\n",
        "  th_est[idx_snr, nsim,idx,:]=match_vec(Thetas,xopt01lsq[0:Signal0.D],lambda x1, x2: abs(x1 - x2))\n",
        "  eth[idx_snr, nsim][idx]=np.degrees(LA.norm(Thetas-th_est[idx_snr,nsim,idx,:]))\n",
        "  print('\\n('+Opt_Method[idx]+') x_opt =',np.degrees(th_est[idx_snr,nsim,idx,:]),'. x_true = ', np.degrees(Thetas))\n",
        "  print('('+Opt_Method[idx]+') err(x_opt) =',eth[idx_snr,nsim][idx])\n"
      ],
      "execution_count": 21,
      "outputs": [
        {
          "output_type": "stream",
          "text": [
            "\n",
            "(ML method, T, LS) x_opt = [76.72546169 55.42127479 19.22358029] . x_true =  [77. 55. 15.]\n",
            "(ML method, T, LS) err(x_opt) = 4.253407359205999\n",
            "\n",
            "(ML method, T (Random) LS) x_opt = [82.1306686  50.69562647 15.07109508] . x_true =  [77. 55. 15.]\n",
            "(ML method, T (Random) LS) err(x_opt) = 6.697495526146758\n"
          ],
          "name": "stdout"
        }
      ]
    },
    {
      "cell_type": "markdown",
      "metadata": {
        "id": "T8fQrYohjfaO"
      },
      "source": [
        "#### Invariance Methods"
      ]
    },
    {
      "cell_type": "markdown",
      "metadata": {
        "id": "Uot2wdfsjkgp"
      },
      "source": [
        "##### ESPRIT\n",
        "<img src=\"https://upload.wikimedia.org/wikipedia/commons/thumb/7/73/ESPRIT_2D.gif/350px-ESPRIT_2D.gif\" width=\"500\" alt='ESPRIT'>\n",
        "\n",
        "ESPRIT exploits an underlying rotational invariance among signal subspaces induced by an array of sensors with a translational invariance structure. \n"
      ]
    },
    {
      "cell_type": "markdown",
      "metadata": {
        "id": "3WPLwqKwlYfG"
      },
      "source": [
        "###### ESPRIT - 1D\n",
        "Only valid for Uniform Linear Arrays"
      ]
    },
    {
      "cell_type": "code",
      "metadata": {
        "colab": {
          "base_uri": "https://localhost:8080/"
        },
        "id": "RzyVQSBYlcjn",
        "outputId": "f585508a-9f46-4228-e64e-10da80e6d4ff"
      },
      "source": [
        "# ESPRIT - 1D algorithm\n",
        "idx = 1\n",
        "kappaDelta = ArrayU.k*(ArrayU.rm[1]-ArrayU.rm[0])[2]\n",
        "xopt_ESPRIT = ESPRIT_1D(RXX_U,Signal0.D,ArrayU.M, kappaDelta)\n",
        "th_est[idx_snr,nsim,idx,:] = match_vec(Thetas,xopt_ESPRIT[0:Signal0.D],lambda x1, x2: abs(x1 - x2)) \n",
        "eth[idx_snr,nsim][idx]=np.degrees(LA.norm(Thetas-th_est[idx_snr,nsim,idx,:]))\n",
        "print('\\n\\n('+Opt_Method[idx]+') x_opt =',np.degrees(th_est[idx_snr,nsim,idx,:]),'. x_true = ', np.degrees(Thetas))\n",
        "print('('+Opt_Method[idx]+') err(x_opt) =',eth[idx_snr,nsim][idx])"
      ],
      "execution_count": 22,
      "outputs": [
        {
          "output_type": "stream",
          "text": [
            "\n",
            "\n",
            "(ESPRIT 1D) x_opt = [76.39402567 55.47569034 19.09880775] . x_true =  [77. 55. 15.]\n",
            "(ESPRIT 1D) err(x_opt) = 4.170576832585133\n"
          ],
          "name": "stdout"
        }
      ]
    },
    {
      "cell_type": "markdown",
      "metadata": {
        "id": "6ZPf33wWlQN9"
      },
      "source": [
        "###### TLS - ESPRIT"
      ]
    },
    {
      "cell_type": "code",
      "metadata": {
        "id": "_InsI-6_jwHz"
      },
      "source": [
        "def In(n):\n",
        "    A = []\n",
        "    for i in range(n):\n",
        "        A.append([1 if j == i else 0 for j in range(n)])\n",
        "    return A\n",
        "    \n",
        "# Selection Matrices\n",
        "# TLS-ESPRIT ---------------------------------------------------\n",
        "dim = M-1\n",
        "IN=In(dim)\n",
        "n_perm=2\n",
        "G1=np.zeros((n_perm*M,M))\n",
        "Gt1=np.zeros((n_perm*M,M))\n",
        "\n",
        "G1[0:dim,0:dim] = np.array(IN) # First Subarray -> Elements 0 to M-1\n",
        "Iperm = G1[0:M,:]\n",
        "Gt1[0:M,:] = (Iperm-np.eye(M))\n",
        "\n",
        "G1[M+1:2*M,1:M] = np.array(IN) # Second Subarray -> Elements 1 to M\n",
        "Iperm = G1[M:2*M,:]\n",
        "Gt1[M:2*M,:] = (Iperm-np.eye(M))"
      ],
      "execution_count": 23,
      "outputs": []
    },
    {
      "cell_type": "code",
      "metadata": {
        "colab": {
          "base_uri": "https://localhost:8080/"
        },
        "id": "VIECBxWJj6b7",
        "outputId": "f8a503d6-1917-481c-ba35-dfc4f7520eda"
      },
      "source": [
        "# TLS-ESPRIT ---------------------------------------------\n",
        "\n",
        "if ULA_flag:\n",
        "  GES_U_ESPRIT=np.matmul(G1,ES_U)\n",
        "\n",
        "  # T matrix in a (known) input parameter\n",
        "  args10U=(Signal0.D, T_U, GES_U_ESPRIT, ArrayU, G1,Gt1)\n",
        "  xini10U=np.array(xini_theta_U)\n",
        "\n",
        "  # LS\n",
        "  idx = 8\n",
        "  xopt10lsq=least_squares(fmin1D_lsq, xini10U, args=args10U, bounds=bndsa_U[:,0:D], loss=loss_method).x \n",
        "\n",
        "  th_est[idx_snr,nsim,idx,:]=match_vec(Thetas,xopt10lsq,lambda x1, x2: abs(x1 - x2))\n",
        "  eth[idx_snr,nsim][idx]=np.degrees(LA.norm(Thetas-th_est[idx_snr,nsim,idx,:]))\n",
        "  print('\\n('+Opt_Method[idx]+') x_opt =',np.degrees(th_est[idx_snr,nsim,idx,:]),'. x_true = ', np.degrees(Thetas))\n",
        "  print('('+Opt_Method[idx]+') err(x_opt) =',eth[idx_snr,nsim][idx])\n",
        "  # T is an unknown parameter, so it has to be optimized\n",
        "  args11U=(Signal0.D, GES_U_ESPRIT, ArrayU, G1,Gt1)\n",
        "\n",
        "  # T matrix included in xini vector\n",
        "  xini11U=np.concatenate((np.array(xini_theta_U), np.array(xini_T_U)))\n",
        "\n",
        "  # LS\n",
        "  idx = 11\n",
        "  xopt11lsq=least_squares(fmin1D_lsq, xini11U, args=args11U, bounds=bndsa_U, loss=loss_method).x \n",
        "\n",
        "  th_est[idx_snr,nsim,idx,:]=match_vec(Thetas,xopt11lsq[0:Signal0.D],lambda x1, x2: abs(x1 - x2))\n",
        "  eth[idx_snr,nsim][idx]=np.degrees(LA.norm(Thetas-th_est[idx_snr,nsim,idx,:]))\n",
        "  print('\\n('+Opt_Method[idx]+') x_opt =',np.degrees(th_est[idx_snr,nsim,idx,:]),'. x_true = ', np.degrees(Thetas))\n",
        "  print('('+Opt_Method[idx]+') err(x_opt) =',eth[idx_snr,nsim][idx])\n",
        "\n",
        "if RLA_flag:\n",
        "  # Random -----------------------------------------------------\n",
        "  GES_R_ESPRIT=np.matmul(G1,ES_R)\n",
        "  # T matrix in a (known) input parameter\n",
        "  args10R=(Signal0.D, T_R, GES_R_ESPRIT, ArrayR, G1,Gt1)\n",
        "  xini10R=np.array(xini_theta_R)\n",
        "\n",
        "  # LS\n",
        "  idx = 9\n",
        "  xopt10lsq=least_squares(fmin1D_lsq, xini10R, args=args10R, bounds=bndsa_R[:,0:D], loss=loss_method).x \n",
        "\n",
        "  th_est[idx_snr,nsim,idx,:]=match_vec(Thetas,xopt10lsq,lambda x1, x2: abs(x1 - x2))\n",
        "  eth[idx_snr,nsim][idx]=np.degrees(LA.norm(Thetas-th_est[idx_snr,nsim,idx,:]))\n",
        "  print('\\n('+Opt_Method[idx]+') x_opt =',np.degrees(th_est[idx_snr,nsim,idx,:]),'. x_true = ', np.degrees(Thetas))\n",
        "  print('('+Opt_Method[idx]+') err(x_opt) =',eth[idx_snr,nsim][idx])\n",
        "\n",
        "  # T is an unknown parameter, so it has to be optimized\n",
        "  args11R=(Signal0.D, GES_R_ESPRIT, ArrayR, G1,Gt1)\n",
        "\n",
        "  # T matrix included in xini vector\n",
        "  xini11R=np.concatenate((np.array(xini_theta_R), np.array(xini_T_R)))\n",
        "\n",
        "  # LS\n",
        "  idx = 12\n",
        "  xopt11lsq=least_squares(fmin1D_lsq, xini11R, args=args11R, bounds=bndsa_R, loss=loss_method).x \n",
        "\n",
        "  th_est[idx_snr,nsim,idx,:]=match_vec(Thetas,xopt11lsq[0:Signal0.D],lambda x1, x2: abs(x1 - x2))\n",
        "  eth[idx_snr,nsim][idx]=np.degrees(LA.norm(Thetas-th_est[idx_snr,nsim,idx,:]))\n",
        "  print('\\n('+Opt_Method[idx]+') x_opt =',np.degrees(th_est[idx_snr,nsim,idx,:]),'. x_true = ', np.degrees(Thetas))\n",
        "  print('('+Opt_Method[idx]+') err(x_opt) =',eth[idx_snr,nsim][idx])"
      ],
      "execution_count": 24,
      "outputs": [
        {
          "output_type": "stream",
          "text": [
            "\n",
            "(TLS-ESPRIT, LS) x_opt = [77.03136781 54.98830617 15.47544074] . x_true =  [77. 55. 15.]\n",
            "(TLS-ESPRIT, LS) err(x_opt) = 0.4766178622419034\n",
            "\n",
            "(TLS-ESPRIT, T, LS) x_opt = [76.79360333 55.40208009 19.2112456 ] . x_true =  [77. 55. 15.]\n",
            "(TLS-ESPRIT, T, LS) err(x_opt) = 4.235428840737356\n",
            "\n",
            "(TLS-ESPRIT (Random) LS) x_opt = [77.00681212 54.94017798 14.85569508] . x_true =  [77. 55. 15.]\n",
            "(TLS-ESPRIT (Random) LS) err(x_opt) = 0.15636172343965996\n",
            "\n",
            "(TLS-ESPRIT, T, (Random) LS) x_opt = [82.05543022 50.64601549 14.98278636] . x_true =  [77. 55. 15.]\n",
            "(TLS-ESPRIT, T, (Random) LS) err(x_opt) = 6.6719451512263195\n"
          ],
          "name": "stdout"
        }
      ]
    },
    {
      "cell_type": "markdown",
      "metadata": {
        "id": "cBEIy-tkjszf"
      },
      "source": [
        "##### ESPAGIT"
      ]
    },
    {
      "cell_type": "code",
      "metadata": {
        "id": "vRyc0_JtkQqf"
      },
      "source": [
        "# Selection Matrices\n",
        "# ESPAGIT ------------------------------------------------------\n",
        "dim=M\n",
        "\n",
        "I=In(dim)\n",
        "n_perm=math.factorial(dim)\n",
        "\n",
        "G=np.empty((n_perm*dim,dim))\n",
        "Gt=np.empty((n_perm*dim,dim))\n",
        "nc=0\n",
        "for Iperm in itertools.permutations(I):\n",
        "    G[nc*dim:(nc+1)*dim,:]=np.array(Iperm)\n",
        "    Gt[nc*dim:(nc+1)*dim,:]=(np.array(Iperm)-np.eye(M))\n",
        "    nc+=1"
      ],
      "execution_count": 25,
      "outputs": []
    },
    {
      "cell_type": "code",
      "metadata": {
        "colab": {
          "base_uri": "https://localhost:8080/"
        },
        "id": "fQOMpbeekYXR",
        "outputId": "93a8f191-46fb-4a62-f9f1-6b1e5ab5b567"
      },
      "source": [
        "# ESPAGIT ---------------------------------------------\n",
        "\n",
        "if ULA_flag:\n",
        "  GES_U=np.matmul(G,ES_U)\n",
        "  # T matrix in a (known) input parameter\n",
        "  args20U=(Signal0.D, T_U, GES_U, ArrayU, G0,Gt)\n",
        "  xini20U=np.array(xini_theta_U)\n",
        "\n",
        "  # LS\n",
        "  idx = 14\n",
        "  xopt20lsq=least_squares(fmin1D_lsq, xini20U, args=args20U, bounds=bndsa_U[:,0:D], loss=loss_method).x \n",
        "\n",
        "  th_est[idx_snr,nsim,idx,:]=match_vec(Thetas,xopt20lsq,lambda x1, x2: abs(x1 - x2))\n",
        "  eth[idx_snr,nsim][idx]=np.degrees(LA.norm(Thetas-th_est[idx_snr,nsim,idx,:]))\n",
        "  print('\\n('+Opt_Method[idx]+') x_opt =',np.degrees(th_est[idx_snr,nsim,idx,:]),'. x_true = ', np.degrees(Thetas))\n",
        "  print('('+Opt_Method[idx]+') err(x_opt) =',eth[idx_snr,nsim][idx])\n",
        "  \n",
        "  idx = 2\n",
        "  print('\\n('+Opt_Method[idx]+') x_opt =',np.degrees(th_est[idx_snr,nsim,idx,:]),'. x_true = ', np.degrees(Thetas))\n",
        "  print('('+Opt_Method[idx]+') err(x_opt) =',eth[idx_snr,nsim][idx])\n",
        "  # T is an unknown parameter, so it has to be optimized\n",
        "  args21U=(Signal0.D, GES_U, ArrayU, G0,Gt)\n",
        "  xini21U=np.concatenate((np.array(xini_theta_U), np.array(xini_T_U)))\n",
        "\n",
        "  # LS\n",
        "  idx = 17\n",
        "  xopt21lsq=least_squares(fmin1D_lsq, xini21U, args=args21U, bounds=bndsa_U, loss=loss_method).x \n",
        "\n",
        "  th_est[idx_snr,nsim,idx,:]=match_vec(Thetas,xopt21lsq[0:Signal0.D],lambda x1, x2: abs(x1 - x2))\n",
        "  eth[idx_snr,nsim][idx]=np.degrees(LA.norm(Thetas-th_est[idx_snr,nsim,idx,:]))\n",
        "  print('\\n('+Opt_Method[idx]+') x_opt =',np.degrees(th_est[idx_snr,nsim,idx,:]),'. x_true = ', np.degrees(Thetas))\n",
        "  print('('+Opt_Method[idx]+') err(x_opt) =',eth[idx_snr,nsim][idx])\n",
        "    \n",
        "  idx = 5\n",
        "  print('\\n('+Opt_Method[idx]+') x_opt =',np.degrees(th_est[idx_snr,nsim,idx,:]),'. x_true = ', np.degrees(Thetas))\n",
        "  print('('+Opt_Method[idx]+') err(x_opt) =',eth[idx_snr,nsim][idx])\n",
        "\n",
        "if RLA_flag:\n",
        "  # Random -----------------------------------------------------\n",
        "  GES_R=np.matmul(G,ES_R)\n",
        "\n",
        "  args20R=(Signal0.D, T_R, GES_R, ArrayR, G0,Gt)\n",
        "  xini20R=np.array(xini_theta_R)\n",
        "    \n",
        "  # LS\n",
        "  idx = 15\n",
        "  xopt20lsq=least_squares(fmin1D_lsq, xini20R, args=args20R, bounds=bndsa_R[:,0:D], loss=loss_method).x \n",
        "\n",
        "  th_est[idx_snr,nsim,idx,:]=match_vec(Thetas,xopt20lsq,lambda x1, x2: abs(x1 - x2))\n",
        "  eth[idx_snr,nsim][idx]=np.degrees(LA.norm(Thetas-th_est[idx_snr,nsim,idx,:]))\n",
        "  print('\\n('+Opt_Method[idx]+') x_opt =',np.degrees(th_est[idx_snr,nsim,idx,:]),'. x_true = ', np.degrees(Thetas))\n",
        "  print('('+Opt_Method[idx]+') err(x_opt) =',eth[idx_snr,nsim][idx])\n",
        "\n",
        "  idx = 3\n",
        "  print('\\n('+Opt_Method[idx]+') x_opt =',np.degrees(th_est[idx_snr,nsim,idx,:]),'. x_true = ', np.degrees(Thetas))\n",
        "  print('('+Opt_Method[idx]+') err(x_opt) =',eth[idx_snr,nsim][idx])\n",
        "\n",
        "  # T is an unknown parameter, so it has to be optimized\n",
        "  args21R=(Signal0.D, GES_R, ArrayR, G0,Gt)\n",
        "  xini21R=np.concatenate((np.array(xini_theta_R), np.array(xini_T_R)))\n",
        "\n",
        "  # LS\n",
        "  idx = 18\n",
        "  xopt21lsq=least_squares(fmin1D_lsq, xini21R, args=args21R, bounds=bndsa_R, loss=loss_method).x \n",
        "  # xopt21lsq=minimize(fmin1D, xini21R, args=args21R, bounds=bnds_R, method=Opt_solver[2]).x \n",
        "\n",
        "  th_est[idx_snr,nsim,idx,:]=match_vec(Thetas,xopt21lsq[0:Signal0.D],lambda x1, x2: abs(x1 - x2))\n",
        "  eth[idx_snr,nsim][idx]=np.degrees(LA.norm(Thetas-th_est[idx_snr,nsim,idx,:]))\n",
        "  print('\\n('+Opt_Method[idx]+') x_opt =',np.degrees(th_est[idx_snr,nsim,idx,:]),'. x_true = ', np.degrees(Thetas))\n",
        "  print('('+Opt_Method[idx]+') err(x_opt) =',eth[idx_snr,nsim][idx])\n",
        "    \n",
        "  idx = 6\n",
        "  print('\\n('+Opt_Method[idx]+') x_opt =',np.degrees(th_est[idx_snr,nsim,idx,:]),'. x_true = ', np.degrees(Thetas))\n",
        "  print('('+Opt_Method[idx]+') err(x_opt) =',eth[idx_snr,nsim][idx])"
      ],
      "execution_count": 26,
      "outputs": [
        {
          "output_type": "stream",
          "text": [
            "\n",
            "(ESPAGIT, LS) x_opt = [76.99058997 55.02290166 15.5994439 ] . x_true =  [77. 55. 15.]\n",
            "(ESPAGIT, LS) err(x_opt) = 0.5999550169224015\n",
            "\n",
            "(ML method, LS) x_opt = [76.99058997 55.02290166 15.5994439 ] . x_true =  [77. 55. 15.]\n",
            "(ML method, LS) err(x_opt) = 0.5999550151833705\n",
            "\n",
            "(ESPAGIT, T, LS) x_opt = [76.72546169 55.42127478 19.22358029] . x_true =  [77. 55. 15.]\n",
            "(ESPAGIT, T, LS) err(x_opt) = 4.253407365616697\n",
            "\n",
            "(ML method, T, LS) x_opt = [76.72546169 55.42127479 19.22358029] . x_true =  [77. 55. 15.]\n",
            "(ML method, T, LS) err(x_opt) = 4.253407359205999\n",
            "\n",
            "(ESPAGIT (Random), LS) x_opt = [76.99390822 54.99431698 14.98482729] . x_true =  [77. 55. 15.]\n",
            "(ESPAGIT (Random), LS) err(x_opt) = 0.01730946399598568\n",
            "\n",
            "(ML method (Random) LS) x_opt = [76.99390822 54.99431698 14.98482729] . x_true =  [77. 55. 15.]\n",
            "(ML method (Random) LS) err(x_opt) = 0.01730946595235972\n",
            "\n",
            "(ESPAGIT, T (Random) LS) x_opt = [82.13066865 50.69562651 15.07109525] . x_true =  [77. 55. 15.]\n",
            "(ESPAGIT, T (Random) LS) err(x_opt) = 6.697495540074214\n",
            "\n",
            "(ML method, T (Random) LS) x_opt = [82.1306686  50.69562647 15.07109508] . x_true =  [77. 55. 15.]\n",
            "(ML method, T (Random) LS) err(x_opt) = 6.697495526146758\n"
          ],
          "name": "stdout"
        }
      ]
    }
  ]
}